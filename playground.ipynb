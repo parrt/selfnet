{
 "cells": [
  {
   "cell_type": "code",
   "execution_count": 76,
   "metadata": {},
   "outputs": [],
   "source": [
    "import numpy as np\n",
    "import pandas as pd\n",
    "import matplotlib.pyplot as plt\n",
    "import matplotlib as mpl\n",
    "from sklearn.model_selection import train_test_split\n",
    "from sklearn.linear_model import LinearRegression, Lasso, Ridge\n",
    "from sklearn.preprocessing import PolynomialFeatures\n",
    "from sklearn.preprocessing import StandardScaler\n",
    "from sklearn.pipeline import make_pipeline\n",
    "from sklearn.datasets import load_boston, load_iris, load_wine, load_digits, \\\n",
    "    load_breast_cancer, load_diabetes, fetch_mldata\n",
    "import statsmodels.api as sm\n",
    "from sklearn.metrics import mean_absolute_error, mean_squared_error, r2_score\n",
    "import itertools"
   ]
  },
  {
   "cell_type": "code",
   "execution_count": 2,
   "metadata": {},
   "outputs": [
    {
     "data": {
      "text/html": [
       "<div>\n",
       "<style scoped>\n",
       "    .dataframe tbody tr th:only-of-type {\n",
       "        vertical-align: middle;\n",
       "    }\n",
       "\n",
       "    .dataframe tbody tr th {\n",
       "        vertical-align: top;\n",
       "    }\n",
       "\n",
       "    .dataframe thead th {\n",
       "        text-align: right;\n",
       "    }\n",
       "</style>\n",
       "<table border=\"1\" class=\"dataframe\">\n",
       "  <thead>\n",
       "    <tr style=\"text-align: right;\">\n",
       "      <th></th>\n",
       "      <th>bedrooms</th>\n",
       "      <th>bathrooms</th>\n",
       "      <th>latitude</th>\n",
       "      <th>longitude</th>\n",
       "      <th>interest_level</th>\n",
       "      <th>hells</th>\n",
       "      <th>astoria</th>\n",
       "      <th>Evillage</th>\n",
       "      <th>Wvillage</th>\n",
       "      <th>LowerEast</th>\n",
       "      <th>...</th>\n",
       "      <th>ParkSlope</th>\n",
       "      <th>Prospect Park</th>\n",
       "      <th>Crown Heights</th>\n",
       "      <th>financial</th>\n",
       "      <th>brooklynheights</th>\n",
       "      <th>gowanus</th>\n",
       "      <th>num_photos</th>\n",
       "      <th>num_desc_words</th>\n",
       "      <th>num_features</th>\n",
       "      <th>price</th>\n",
       "    </tr>\n",
       "  </thead>\n",
       "  <tbody>\n",
       "    <tr>\n",
       "      <td>0</td>\n",
       "      <td>4</td>\n",
       "      <td>2.0</td>\n",
       "      <td>40.7360</td>\n",
       "      <td>-74.0009</td>\n",
       "      <td>1</td>\n",
       "      <td>34.7</td>\n",
       "      <td>122.9796</td>\n",
       "      <td>28.906832</td>\n",
       "      <td>2.89</td>\n",
       "      <td>37.5946</td>\n",
       "      <td>...</td>\n",
       "      <td>87.433</td>\n",
       "      <td>374.45</td>\n",
       "      <td>138.906392</td>\n",
       "      <td>36.936126</td>\n",
       "      <td>47.461758</td>\n",
       "      <td>66.9</td>\n",
       "      <td>6</td>\n",
       "      <td>68</td>\n",
       "      <td>0</td>\n",
       "      <td>8995</td>\n",
       "    </tr>\n",
       "    <tr>\n",
       "      <td>1</td>\n",
       "      <td>0</td>\n",
       "      <td>1.0</td>\n",
       "      <td>40.7064</td>\n",
       "      <td>-74.0100</td>\n",
       "      <td>1</td>\n",
       "      <td>73.4</td>\n",
       "      <td>161.6796</td>\n",
       "      <td>41.934380</td>\n",
       "      <td>35.81</td>\n",
       "      <td>34.3606</td>\n",
       "      <td>...</td>\n",
       "      <td>66.933</td>\n",
       "      <td>394.95</td>\n",
       "      <td>118.406392</td>\n",
       "      <td>6.902838</td>\n",
       "      <td>26.961758</td>\n",
       "      <td>46.4</td>\n",
       "      <td>15</td>\n",
       "      <td>0</td>\n",
       "      <td>1</td>\n",
       "      <td>2880</td>\n",
       "    </tr>\n",
       "  </tbody>\n",
       "</table>\n",
       "<p>2 rows × 21 columns</p>\n",
       "</div>"
      ],
      "text/plain": [
       "   bedrooms  bathrooms  latitude  longitude  interest_level  hells   astoria  \\\n",
       "0         4        2.0   40.7360   -74.0009               1   34.7  122.9796   \n",
       "1         0        1.0   40.7064   -74.0100               1   73.4  161.6796   \n",
       "\n",
       "    Evillage  Wvillage  LowerEast  ...  ParkSlope  Prospect Park  \\\n",
       "0  28.906832      2.89    37.5946  ...     87.433         374.45   \n",
       "1  41.934380     35.81    34.3606  ...     66.933         394.95   \n",
       "\n",
       "   Crown Heights  financial  brooklynheights  gowanus  num_photos  \\\n",
       "0     138.906392  36.936126        47.461758     66.9           6   \n",
       "1     118.406392   6.902838        26.961758     46.4          15   \n",
       "\n",
       "   num_desc_words  num_features  price  \n",
       "0              68             0   8995  \n",
       "1               0             1   2880  \n",
       "\n",
       "[2 rows x 21 columns]"
      ]
     },
     "execution_count": 2,
     "metadata": {},
     "output_type": "execute_result"
    }
   ],
   "source": [
    "df = pd.read_csv(\"rent10k.csv\")\n",
    "df.head(2)"
   ]
  },
  {
   "cell_type": "code",
   "execution_count": 67,
   "metadata": {},
   "outputs": [],
   "source": [
    "def fit(X,y,order=2):\n",
    "    \"Pass X=[x1,x2] to get nth order polynomial with interaction terms\"\n",
    "    poly = PolynomialFeatures(order, interaction_only=False)\n",
    "    model = make_pipeline(poly, Ridge())\n",
    "    model.fit(X, y)\n",
    "    ridge = model.named_steps['ridge']\n",
    "    # y_pred = model.predict(x)\n",
    "    # ax.plot(x, y_pred, ':', c='k', lw=.7)\n",
    "    terms = poly.get_feature_names()\n",
    "    terms[0] = 'c'\n",
    "#     terms = reversed(terms)\n",
    "    terms = [f'{c:.4f}{t}' for c,t in zip(ridge.coef_, terms)]\n",
    "#     print(list(zip(ridge.coef_, terms)))\n",
    "    eqn = ' + '.join( terms )\n",
    "    return model, eqn"
   ]
  },
  {
   "cell_type": "code",
   "execution_count": 68,
   "metadata": {},
   "outputs": [],
   "source": [
    "X = df.drop('price',axis=1)\n",
    "y = df['price']\n",
    "X_train, X_test, y_train, y_test = train_test_split(X, y, test_size=0.2)\n",
    "\n",
    "X = X_train[['bedrooms','bathrooms']]\n",
    "model, eqn = fit(X_train[['bedrooms','bathrooms']], y_train)"
   ]
  },
  {
   "cell_type": "code",
   "execution_count": 69,
   "metadata": {},
   "outputs": [
    {
     "data": {
      "text/plain": [
       "(745.4976537788123, 1060592.1569188016, 0.4809857569555598)"
      ]
     },
     "execution_count": 69,
     "metadata": {},
     "output_type": "execute_result"
    }
   ],
   "source": [
    "y_pred = model.predict(X_train[['bedrooms','bathrooms']])\n",
    "mean_absolute_error(y_train, y_pred), mean_squared_error(y_train, y_pred), r2_score(y_train, y_pred)"
   ]
  },
  {
   "cell_type": "code",
   "execution_count": 70,
   "metadata": {},
   "outputs": [
    {
     "data": {
      "text/plain": [
       "(712.6256751434294, 955527.0686508613, 0.4686303028598061)"
      ]
     },
     "execution_count": 70,
     "metadata": {},
     "output_type": "execute_result"
    }
   ],
   "source": [
    "y_pred = model.predict(X_test[['bedrooms','bathrooms']])\n",
    "mean_absolute_error(y_test, y_pred), mean_squared_error(y_test, y_pred), r2_score(y_test, y_pred)"
   ]
  },
  {
   "cell_type": "code",
   "execution_count": 126,
   "metadata": {},
   "outputs": [
    {
     "name": "stdout",
     "output_type": "stream",
     "text": [
      "['bedrooms' 'bathrooms'] 0.4686303028598061 712.6256751434294\n",
      "['bedrooms' 'num_photos'] 0.3548850337952293 780.8201166913007\n",
      "['bedrooms' 'num_desc_words'] 0.3414093235453868 782.1963908141901\n",
      "['bedrooms' 'ParkSlope'] 0.34049620126320324 791.7970331711559\n",
      "['bedrooms' 'num_features'] 0.26895400287837956 817.2126739767635\n"
     ]
    }
   ],
   "source": [
    "allpairs = list(itertools.combinations(range(X_train.shape[1]), 2))\n",
    "\n",
    "features = X_train.columns.values\n",
    "\n",
    "pairs = []\n",
    "r2_trains, mae_trains = [], []\n",
    "r2_tests, mae_tests = [], []\n",
    "for pair in allpairs:\n",
    "    pairs.append(features[[pair[0],pair[1]]])\n",
    "#     print(pair)\n",
    "    model, eqn = fit(X_train[features[[pair[0],pair[1]]]], y_train)\n",
    "    y_pred = model.predict(X_train[['bedrooms','bathrooms']])\n",
    "    r2_train, mae_train = r2_score(y_train, y_pred), mean_absolute_error(y_train, y_pred)\n",
    "    r2_trains.append(r2_train)\n",
    "    mae_trains.append(mae_train)\n",
    "    y_pred = model.predict(X_test[['bedrooms','bathrooms']])\n",
    "    r2_test, mae_test = r2_score(y_test, y_pred), mean_absolute_error(y_test, y_pred)\n",
    "    r2_tests.append(r2_test)\n",
    "    mae_tests.append(mae_test)\n",
    "\n",
    "pairs = np.array(pairs)\n",
    "r2_tests = np.array(r2_tests)\n",
    "mae_tests = np.array(mae_tests)\n",
    "r2_trains = np.array(r2_trains)\n",
    "mae_trains = np.array(mae_trains)\n",
    "\n",
    "# pick best k per generation\n",
    "k = 5\n",
    "best_idx = np.argsort(mae_tests)\n",
    "best_idx = best_idx[:k]\n",
    "info = list(zip(pairs[best_idx], r2_tests[best_idx], mae_tests[best_idx]))\n",
    "\n",
    "for pair, r2, mae in info:\n",
    "    print(pair, r2, mae)"
   ]
  },
  {
   "cell_type": "code",
   "execution_count": null,
   "metadata": {},
   "outputs": [],
   "source": []
  }
 ],
 "metadata": {
  "kernelspec": {
   "display_name": "Python 3",
   "language": "python",
   "name": "python3"
  },
  "language_info": {
   "codemirror_mode": {
    "name": "ipython",
    "version": 3
   },
   "file_extension": ".py",
   "mimetype": "text/x-python",
   "name": "python",
   "nbconvert_exporter": "python",
   "pygments_lexer": "ipython3",
   "version": "3.7.4"
  }
 },
 "nbformat": 4,
 "nbformat_minor": 4
}
